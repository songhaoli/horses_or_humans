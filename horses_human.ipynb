{
  "nbformat": 4,
  "nbformat_minor": 0,
  "metadata": {
    "colab": {
      "name": "horses_human",
      "version": "0.3.2",
      "provenance": [],
      "private_outputs": true,
      "collapsed_sections": []
    },
    "kernelspec": {
      "name": "python3",
      "display_name": "Python 3"
    },
    "accelerator": "GPU"
  },
  "cells": [
    {
      "cell_type": "markdown",
      "metadata": {
        "id": "HQUh-pAaN6FG",
        "colab_type": "text"
      },
      "source": [
        "Here is some simple code in neural network to recognise pictures of horses and humans.\n",
        "\n",
        "Information about the raw data can be found here.\n",
        "https://www.tensorflow.org/datasets/datasets#horses_or_humans"
      ]
    },
    {
      "cell_type": "code",
      "metadata": {
        "id": "Wg1LKAf6N5eX",
        "colab_type": "code",
        "colab": {}
      },
      "source": [
        "!pip install tf-nightly-gpu\n",
        "!pip install \"tensorflow_hub==0.4.0\"\n",
        "!pip install -U tensorflow_datasets"
      ],
      "execution_count": 0,
      "outputs": []
    },
    {
      "cell_type": "code",
      "metadata": {
        "id": "H5EYZ2lxVVE8",
        "colab_type": "code",
        "colab": {}
      },
      "source": [
        "import numpy as np\n",
        "import matplotlib.pyplot as plt\n",
        "from skimage.transform import resize\n",
        "\n",
        "import tensorflow as tf\n",
        "tf.enable_eager_execution()\n",
        "\n",
        "import tensorflow_hub as hub\n",
        "import tensorflow_datasets as tfds\n",
        "\n",
        "from tensorflow.keras import layers"
      ],
      "execution_count": 0,
      "outputs": []
    },
    {
      "cell_type": "markdown",
      "metadata": {
        "id": "Fvz1OoRdO2VV",
        "colab_type": "text"
      },
      "source": [
        "Instead of working with TensorFlow dataset, we import the raw data as nparray. "
      ]
    },
    {
      "cell_type": "code",
      "metadata": {
        "id": "P6ceZ1OcVYy4",
        "colab_type": "code",
        "colab": {}
      },
      "source": [
        "builder = tfds.builder(\"horses_or_humans\")\n",
        "assert builder.info.splits['train'].num_examples == 1027\n",
        "assert builder.info.splits['test'].num_examples == 256\n",
        "builder.download_and_prepare()\n",
        "datasets = builder.as_dataset()\n",
        "np_datasets = tfds.as_numpy(datasets)"
      ],
      "execution_count": 0,
      "outputs": []
    },
    {
      "cell_type": "code",
      "metadata": {
        "id": "BvA4Nv1i6mha",
        "colab_type": "code",
        "colab": {}
      },
      "source": [
        "n_train = 1027\n",
        "n_test = 256\n",
        "n_class = 2\n",
        "\n",
        "im_res = 300"
      ],
      "execution_count": 0,
      "outputs": []
    },
    {
      "cell_type": "code",
      "metadata": {
        "id": "FZsdw9mDroNg",
        "colab_type": "code",
        "colab": {}
      },
      "source": [
        "train_data = np_datasets['train']\n",
        "test_data = np_datasets['test']\n",
        "\n",
        "x_train = np.empty((n_train,im_res,im_res,3), dtype=np.int)\n",
        "y_train = np.empty(n_train, dtype=np.int)\n",
        "\n",
        "for i, e in enumerate(train_data):\n",
        "  x_train[i] = e['image']\n",
        "  y_train[i] = e['label']\n",
        "\n",
        "x_test = np.empty((n_test,im_res,im_res,3), dtype=np.int)\n",
        "y_test = np.empty(n_test)\n",
        "\n",
        "for i, e in enumerate(test_data):\n",
        "  x_test[i] = e['image']\n",
        "  y_test[i] = e['label']"
      ],
      "execution_count": 0,
      "outputs": []
    },
    {
      "cell_type": "markdown",
      "metadata": {
        "id": "XplRTOZWPWbS",
        "colab_type": "text"
      },
      "source": [
        "*   x_train, an array of dimension (1027, 300, 300, 3), contains 1027 RGB pictures of horses and human with pixel resolution of 300x300.\n",
        "\n",
        "*   y_train, a 1-d array of 1027, contains the labels for x_train.\n",
        "\n",
        "*   x_test, an array of dimension (256, 300, 300, 3), contains 256 RGB pictures of horses and human with pixel resolution of 300x300.\n",
        "\n",
        "*   y_test, a 1-d array of 1027, contains the labels for x_test.\n",
        "\n",
        "The entries for x_trains and x_test are between 0 and 255. We normalize them in the next step."
      ]
    },
    {
      "cell_type": "code",
      "metadata": {
        "id": "SeIHMTNupONE",
        "colab_type": "code",
        "colab": {}
      },
      "source": [
        "x_train = x_train / 255\n",
        "x_test = x_test / 255"
      ],
      "execution_count": 0,
      "outputs": []
    },
    {
      "cell_type": "markdown",
      "metadata": {
        "id": "vgJjNtLgQr0Q",
        "colab_type": "text"
      },
      "source": [
        "A visualization of the first 100 pictures in the training data."
      ]
    },
    {
      "cell_type": "code",
      "metadata": {
        "id": "l44Mc55FGPNN",
        "colab_type": "code",
        "colab": {}
      },
      "source": [
        "n_plot = 100\n",
        "class_names = np.array(['horses', 'human'])\n",
        "\n",
        "plt.figure(figsize=(10,(n_plot+4)//5*2))\n",
        "for i in range(n_plot):\n",
        "  plt.subplot((n_plot+4)//5,5,i+1)\n",
        "  plt.imshow(x_train[i])\n",
        "  plt.title(class_names[y_train[i]])\n",
        "  plt.axis('off')"
      ],
      "execution_count": 0,
      "outputs": []
    },
    {
      "cell_type": "markdown",
      "metadata": {
        "id": "KT0-TH7FQqA-",
        "colab_type": "text"
      },
      "source": [
        "We build 3 models.\n",
        "\n",
        "1.   The 1st model is a standard CNN with 3 layers. (accuracy ~ 80% to 85%)\n",
        "2.   The 2nd model is based on the mobilenet model imported from tfhub. (accuracy ~ 99%) https://tfhub.dev/google/tf2-preview/mobilenet_v2/feature_vector/4\n",
        "3.   The 3rd model is based on the inception model imported from tfhub. (accuracy ~ 97%) https://tfhub.dev/google/tf2-preview/inception_v3/feature_vector/4\n",
        "\n"
      ]
    },
    {
      "cell_type": "code",
      "metadata": {
        "id": "ZfjM9ugzBgPk",
        "colab_type": "code",
        "colab": {}
      },
      "source": [
        "def cnn_model():\n",
        "  model = tf.keras.models.Sequential()\n",
        "  model.add(tf.keras.layers.Conv2D(16, padding = 'same', kernel_size=(3, 3), activation=tf.nn.relu, input_shape=(im_res, im_res, 3)))\n",
        "  model.add(tf.keras.layers.MaxPooling2D((2, 2), strides=2))\n",
        "  model.add(tf.keras.layers.Conv2D(32, padding = 'same', kernel_size=(3, 3), activation=tf.nn.relu))\n",
        "  model.add(tf.keras.layers.MaxPooling2D((2, 2), strides=2))\n",
        "  model.add(tf.keras.layers.Conv2D(64, padding = 'same', kernel_size=(3, 3), activation=tf.nn.relu))\n",
        "  model.add(tf.keras.layers.MaxPooling2D((2, 2), strides=2))\n",
        "  model.add(tf.keras.layers.Flatten())\n",
        "  model.add(tf.keras.layers.Dense(128, activation=tf.nn.relu))\n",
        "  model.add(tf.keras.layers.Dropout(0.5))\n",
        "  model.add(tf.keras.layers.Dense(2, activation=tf.nn.softmax))\n",
        "  \n",
        "  return model"
      ],
      "execution_count": 0,
      "outputs": []
    },
    {
      "cell_type": "code",
      "metadata": {
        "id": "8nGuT5iFBo42",
        "colab_type": "code",
        "colab": {}
      },
      "source": [
        "def mobilenet_v2():\n",
        "  model = tf.keras.Sequential()\n",
        "  model.add(hub.KerasLayer(\"https://tfhub.dev/google/tf2-preview/mobilenet_v2/feature_vector/4\",\n",
        "                           trainable=False, input_shape=(224, 224, 3)))\n",
        "  model.add(tf.keras.layers.Dense(n_class, activation='softmax'))\n",
        "  \n",
        "  return model"
      ],
      "execution_count": 0,
      "outputs": []
    },
    {
      "cell_type": "code",
      "metadata": {
        "id": "mW9kFF7-B0K0",
        "colab_type": "code",
        "colab": {}
      },
      "source": [
        "def inception_v3():\n",
        "  model = tf.keras.Sequential()\n",
        "  model.add(hub.KerasLayer(\"https://tfhub.dev/google/tf2-preview/inception_v3/feature_vector/4\",\n",
        "                           trainable=False, input_shape=(299, 299, 3)))\n",
        "  model.add(tf.keras.layers.Dense(n_class, activation='softmax'))\n",
        "  \n",
        "  return model"
      ],
      "execution_count": 0,
      "outputs": []
    },
    {
      "cell_type": "code",
      "metadata": {
        "id": "Euu5IrmVWmFK",
        "colab_type": "code",
        "colab": {}
      },
      "source": [
        "def im_array_resize(array, res):\n",
        "  n_image = array.shape[0]\n",
        "  new_array = np.empty((n_image, res, res, 3))\n",
        "  for i in range(n_image):\n",
        "    new_array[i] = resize(array[i], (res, res), anti_aliasing=True)\n",
        "  return new_array"
      ],
      "execution_count": 0,
      "outputs": []
    },
    {
      "cell_type": "markdown",
      "metadata": {
        "id": "PCd4UvBHSH6_",
        "colab_type": "text"
      },
      "source": [
        "The user is welcome try uncomment the codes to try different models."
      ]
    },
    {
      "cell_type": "code",
      "metadata": {
        "id": "xxm99kI9JJXs",
        "colab_type": "code",
        "colab": {}
      },
      "source": [
        "# x_train = im_array_resize(x_train, im_res)\n",
        "# x_test = im_array_resize(x_test, im_res)\n",
        "# model = cnn_model()\n",
        "\n",
        "x_train = im_array_resize(x_train, 224)\n",
        "x_test = im_array_resize(x_test, 224)\n",
        "model = mobilenet_v2()\n",
        "\n",
        "# x_train = im_array_resize(x_train, 299)\n",
        "# x_test = im_array_resize(x_test, 299)\n",
        "# model = inception_v3()\n",
        "\n",
        "model.summary()"
      ],
      "execution_count": 0,
      "outputs": []
    },
    {
      "cell_type": "code",
      "metadata": {
        "id": "00TeomNJSC-1",
        "colab_type": "code",
        "colab": {}
      },
      "source": [
        "epochs = 10\n",
        "batch_size = 16\n",
        "\n",
        "model.compile(optimizer='adam', loss='sparse_categorical_crossentropy', metrics=['accuracy'])\n",
        "history = model.fit(x=x_train, y=y_train,\n",
        "                   batch_size=batch_size, epochs=epochs,\n",
        "                   validation_data=(x_test, y_test))"
      ],
      "execution_count": 0,
      "outputs": []
    },
    {
      "cell_type": "code",
      "metadata": {
        "id": "qHlBGJsmd04t",
        "colab_type": "code",
        "colab": {}
      },
      "source": [
        "plt.figure(figsize=(8, 8))\n",
        "plt.subplot(1, 2, 1)\n",
        "plt.plot(range(epochs), history.history['acc'], label='Training Accuracy')\n",
        "plt.plot(range(epochs), history.history['val_acc'], label='Validation Accuracy')\n",
        "plt.legend(loc='lower right')\n",
        "plt.title('Training and Validation Accuracy')\n",
        "\n",
        "plt.subplot(1, 2, 2)\n",
        "plt.plot(range(epochs), history.history['loss'], label='Training Loss')\n",
        "plt.plot(range(epochs), history.history['val_loss'], label='Validation Loss')\n",
        "plt.legend(loc='upper right')\n",
        "plt.title('Training and Validation Loss')\n",
        "plt.show()"
      ],
      "execution_count": 0,
      "outputs": []
    },
    {
      "cell_type": "markdown",
      "metadata": {
        "id": "xPWtClXGSBq5",
        "colab_type": "text"
      },
      "source": [
        "A visualization of the first 100 pictures in the test data. The blue labels are correct and the red labels are incorrect.\n",
        "We usually get up to red labels if running the mobilenet model."
      ]
    },
    {
      "cell_type": "code",
      "metadata": {
        "id": "ocXLk1WWvBjv",
        "colab_type": "code",
        "colab": {}
      },
      "source": [
        "y_pred = np.argmax(model.predict(x_test[:n_plot]),axis=-1)\n",
        "y_pred"
      ],
      "execution_count": 0,
      "outputs": []
    },
    {
      "cell_type": "code",
      "metadata": {
        "id": "3MmEr-YQu2FF",
        "colab_type": "code",
        "colab": {}
      },
      "source": [
        "plt.figure(figsize=(10,(n_plot+4)//5*2))\n",
        "for i in range(n_plot):\n",
        "  plt.subplot((n_plot+4)//5,5,i+1)\n",
        "  plt.imshow(x_test[i])\n",
        "  color = \"blue\" if y_pred[i] == y_test[i] else \"red\"\n",
        "  plt.title(class_names[y_pred[i]], color=color)\n",
        "  plt.axis('off')\n",
        "  plt.suptitle(\"Model predictions (blue: correct, red: incorrect)\")"
      ],
      "execution_count": 0,
      "outputs": []
    }
  ]
}